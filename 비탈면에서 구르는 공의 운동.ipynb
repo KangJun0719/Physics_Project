{
 "cells": [
  {
   "cell_type": "code",
   "execution_count": null,
   "id": "0",
   "metadata": {},
   "outputs": [],
   "source": [
    "!pip install pygame"
   ]
  },
  {
   "cell_type": "code",
   "execution_count": null,
   "id": "1",
   "metadata": {},
   "outputs": [],
   "source": [
    "import pygame\n",
    "import sys\n",
    "import math\n",
    "from matplotlib import pyplot as plt"
   ]
  },
  {
   "cell_type": "code",
   "execution_count": null,
   "id": "2",
   "metadata": {},
   "outputs": [],
   "source": [
    "WHITE = (255, 255, 255)\n",
    "BLACK = (0, 0, 0)\n",
    "ORANGE = (255, 128, 0)\n",
    "width, height = 800, 600"
   ]
  },
  {
   "cell_type": "code",
   "execution_count": null,
   "id": "3",
   "metadata": {},
   "outputs": [],
   "source": [
    "Kinetic_Energy = []\n",
    "Rotation_Kinetic_Energy = []\n",
    "Angular_Displacement = []\n",
    "Time = []\n",
    "r = 10\n",
    "m = 1\n",
    "g = 9.8\n",
    "μ = 0.42\n",
    "t = 0\n",
    "dt = 1/1000\n",
    "θ = 0\n",
    "w = 0\n",
    "x, y = 780, 5\n",
    "vx, vy = 0, 0\n",
    "clock = pygame.time.Clock()\n",
    "screen = pygame.display.set_mode((width, height))\n",
    "pygame.display.set_caption(\"Projectile Motion\")\n",
    "running = True\n",
    "while running:\n",
    "    clock.tick(1000)\n",
    "    for event in pygame.event.get():\n",
    "        if event.type == pygame.QUIT:\n",
    "            running = False\n",
    "    t += dt\n",
    "    α = (g*4/5*μ)/(m*r**2/2)\n",
    "    w += α*dt\n",
    "    θ += w*dt\n",
    "    vx = -w*r*4/5\n",
    "    vy = w*r*3/5\n",
    "    x += vx*dt\n",
    "    y += vy*dt\n",
    "    Time.append(t)\n",
    "    Kinetic_Energy.append((vx**2+vy**2)/2)\n",
    "    Rotation_Kinetic_Energy.append(25*w**2)\n",
    "    Angular_Displacement.append(θ*360/2/math.pi)\n",
    "    screen.fill(BLACK)\n",
    "    pygame.draw.circle(screen, ORANGE, (int(x), int(y)), r)\n",
    "    pygame.draw.circle(screen, BLACK, (int(x)+5*math.cos(-θ), int(y)+5*math.sin(-θ)), 2)\n",
    "    pygame.draw.line(screen, WHITE, ((0, 600)), (800, 0), 5)\n",
    "    pygame.display.flip()\n",
    "    if y > height-10:\n",
    "        vy = 0\n",
    "        y = height - 10\n",
    "        running = False\n",
    "pygame.quit()"
   ]
  },
  {
   "cell_type": "code",
   "execution_count": null,
   "id": "4",
   "metadata": {},
   "outputs": [],
   "source": [
    "plt.xlim(0, max(Time))\n",
    "plt.ylim(0, max(Kinetic_Energy))\n",
    "plt.plot(Time, Kinetic_Energy)\n",
    "plt.xlabel('time')\n",
    "plt.ylabel('kinetic energy')\n",
    "plt.title('Movement of the ball on the slope (Rotation X)')\n",
    "plt.show()"
   ]
  },
  {
   "cell_type": "code",
   "execution_count": null,
   "id": "5",
   "metadata": {},
   "outputs": [],
   "source": [
    "plt.xlim(0, max(Time))\n",
    "plt.ylim(0, max(Rotation_Kinetic_Energy))\n",
    "plt.plot(Time, Rotation_Kinetic_Energy)\n",
    "plt.xlabel('time')\n",
    "plt.ylabel('rotation kinetic energy')\n",
    "plt.title('Movement of the ball on the slope (Rotation X)')\n",
    "plt.show()"
   ]
  },
  {
   "cell_type": "code",
   "execution_count": null,
   "id": "6",
   "metadata": {},
   "outputs": [],
   "source": [
    "plt.xlim(0, max(Time))\n",
    "plt.ylim(0, max(Angular_Displacement))\n",
    "plt.plot(Time, Angular_Displacement)\n",
    "plt.xlabel('time')\n",
    "plt.ylabel('angular displacement')\n",
    "plt.title('Movement of the ball on the slope (Rotation X)')\n",
    "plt.show()"
   ]
  },
  {
   "cell_type": "code",
   "execution_count": null,
   "id": "7",
   "metadata": {},
   "outputs": [],
   "source": []
  }
 ],
 "metadata": {
  "kernelspec": {
   "display_name": "Python [conda env:base] *",
   "language": "python",
   "name": "conda-base-py"
  },
  "language_info": {
   "codemirror_mode": {
    "name": "ipython",
    "version": 3
   },
   "file_extension": ".py",
   "mimetype": "text/x-python",
   "name": "python",
   "nbconvert_exporter": "python",
   "pygments_lexer": "ipython3",
   "version": "3.12.7"
  }
 },
 "nbformat": 4,
 "nbformat_minor": 5
}
