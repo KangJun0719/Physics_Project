{
 "cells": [
  {
   "cell_type": "code",
   "execution_count": 1,
   "id": "d063c983-b09d-4e41-a72d-46361fad3ad9",
   "metadata": {},
   "outputs": [
    {
     "name": "stdout",
     "output_type": "stream",
     "text": [
      "pygame 2.6.1 (SDL 2.28.4, Python 3.12.7)\n",
      "Hello from the pygame community. https://www.pygame.org/contribute.html\n"
     ]
    }
   ],
   "source": [
    "import pygame\n",
    "import sys\n",
    "import math\n",
    "from matplotlib import pyplot as plt"
   ]
  },
  {
   "cell_type": "code",
   "execution_count": 3,
   "id": "c61420a8-0071-4d5c-a884-d4d2cdf2aeb6",
   "metadata": {},
   "outputs": [],
   "source": [
    "WHITE = (255, 255, 255)\n",
    "BLACK = (0, 0, 0)\n",
    "ORANGE = (255, 128, 0)\n",
    "width, height = 800, 600"
   ]
  },
  {
   "cell_type": "code",
   "execution_count": null,
   "id": "85874c35-2770-4a1a-87ac-d666dc349577",
   "metadata": {},
   "outputs": [],
   "source": [
    "Kinetic_Energy = []\n",
    "Rotation_Kinetic_Energy = []\n",
    "Time = []\n",
    "r = 10\n",
    "m = 1\n",
    "g = 9.8\n",
    "μ = 0.42\n",
    "t = 0\n",
    "θ = 0\n",
    "w = 0\n",
    "x, y = 780, 5\n",
    "vx, vy = 0, 0\n",
    "clock = pygame.time.Clock()\n",
    "screen = pygame.display.set_mode((width, height))\n",
    "pygame.display.set_caption(\"Projectile Motion\")\n",
    "running = True\n",
    "while running:\n",
    "    clock.tick(60)\n",
    "    for event in pygame.event.get():\n",
    "        if event.type == pygame.QUIT:\n",
    "            running = False\n",
    "    t += 1/60\n",
    "    α = (g*4/5*μ)/(m*r**2/2)\n",
    "    w += α/60\n",
    "    θ += w/60\n",
    "    vx = -w*r*4/5\n",
    "    vy = w*r*3/5\n",
    "    x += vx/60\n",
    "    y += vy/60\n",
    "    Time.append(t)\n",
    "    Kinetic_Energy.append((vx**2+vy**2)/2)\n",
    "    Rotation_Kinetic_Energy.append(25*w**2)\n",
    "    screen.fill(BLACK)\n",
    "    pygame.draw.circle(screen, ORANGE, (int(x), int(y)), r)\n",
    "    pygame.draw.circle(screen, BLACK, (int(x)+5*math.cos(-θ), int(y)+5*math.sin(-θ)), 2)\n",
    "    pygame.draw.line(screen, WHITE, ((0, 600)), (800, 0), 5)\n",
    "    pygame.display.flip()\n",
    "    if y > height-10:\n",
    "        vy = 0\n",
    "        y = height - 10\n",
    "        running = False\n",
    "pygame.quit()"
   ]
  }
 ],
 "metadata": {
  "kernelspec": {
   "display_name": "Python [conda env:base] *",
   "language": "python",
   "name": "conda-base-py"
  },
  "language_info": {
   "codemirror_mode": {
    "name": "ipython",
    "version": 3
   },
   "file_extension": ".py",
   "mimetype": "text/x-python",
   "name": "python",
   "nbconvert_exporter": "python",
   "pygments_lexer": "ipython3",
   "version": "3.12.7"
  }
 },
 "nbformat": 4,
 "nbformat_minor": 5
}
